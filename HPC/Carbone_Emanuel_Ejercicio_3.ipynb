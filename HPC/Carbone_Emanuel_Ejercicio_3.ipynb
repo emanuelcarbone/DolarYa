{
  "nbformat": 4,
  "nbformat_minor": 0,
  "metadata": {
    "colab": {
      "name": "EA3-Ejercicio 3-OpenMP.ipynb",
      "private_outputs": true,
      "provenance": [],
      "collapsed_sections": [
        "B4IHd-IqdvT1"
      ]
    },
    "kernelspec": {
      "display_name": "Python 3",
      "name": "python3"
    }
  },
  "cells": [
    {
      "cell_type": "markdown",
      "metadata": {
        "id": "qoYPFWcielY3"
      },
      "source": [
        "# 1. Introducción\n",
        "\n",
        "En el siguiente ejercicio se realizará el **cálculo aproximado de la famosa cifra $\\pi$** a partir de la serie que da la solución al famoso problema matemático llamado \"El Problema de Basilea\":\n",
        "\n",
        "<center>$\\sum_{n=1}^{\\infty}\\frac{1}{n^2}=\\frac{\\pi^2}{6}$</center>\n",
        "\n",
        "El algoritmo está basado en la idea de que, a medida que sumemos más símbolos de la serie, más preciso será el valor calculado de $\\pi$ a la hora de despejar la ecuación [1].\n",
        "\n",
        "La idea principal es mostrar la perfomance de un algoritmo que puede ser paralelizado con respecto a su resolución secuencial, para ello, implementaremos la interfaz **OpenMP** [2].\n",
        "\n",
        "En este aspecto, se implementó la directiva del compilador **#pragma omp parallel for reduction (...)** [3] para que se paralelice la sección del código donde se aplica el algoritmo. Cada ciclo del for será atendido por hilo. También se aplica la directiva de reducción para que, una vez finalizado cada hilo, se aplique a la variable compartida el valor resultante de la operación a través de una operación especificada (en nuestro caso, una suma).\n",
        "\n",
        "Si bien se utiliza Python [4] para creación del archivo, el programa en sí está desarrollado en C++, donde su compilación y ejecución se realiza a través de comandos tipo UNIX en Colab [5][6]."
      ]
    },
    {
      "cell_type": "markdown",
      "metadata": {
        "id": "3PQxHPkDdo42"
      },
      "source": [
        "---\n",
        "# 2. Armado del ambiente\n"
      ]
    },
    {
      "cell_type": "markdown",
      "metadata": {
        "id": "95TktT--gTU4"
      },
      "source": [
        "### Importación de **bibliotecas**"
      ]
    },
    {
      "cell_type": "code",
      "metadata": {
        "id": "YBVHdr_jgSfc"
      },
      "source": [
        "import pandas as pd # Importamos Pandas, biblioteca utilizada en Python para la analítica de datos\n",
        "import matplotlib.pyplot as plt # Manejo de gráficos\n",
        "from google.colab import files # Manejo de archivos"
      ],
      "execution_count": null,
      "outputs": []
    },
    {
      "cell_type": "markdown",
      "metadata": {
        "id": "whmMNwZ1m2Ll"
      },
      "source": [
        "---\n",
        "# 3. Desarrollo"
      ]
    },
    {
      "cell_type": "markdown",
      "metadata": {
        "id": "jpQVIvc0m6Lt"
      },
      "source": [
        "### Código en C y compilación"
      ]
    },
    {
      "cell_type": "code",
      "metadata": {
        "id": "zLE3iWiJsM0G"
      },
      "source": [
        "code = \"\"\"\n",
        "#include <iostream>\n",
        "#include <vector>\n",
        "#include <cstdlib>\n",
        "#include <sys/time.h>\n",
        "#include <omp.h>    // Cabecera OpenMP\n",
        "#include <cmath>     // Impresión de números por terminal\n",
        "#include <fstream>   // Para elevar a potencias y hacer raíces\n",
        "\n",
        "// --- Macros para medir el tiempo\n",
        "static double dHashTiempoHistory[3];\n",
        "static struct timeval tv;\n",
        "\n",
        "#define TIEMPO_INI(h)      \\\n",
        "   gettimeofday(&tv, NULL);   \\\n",
        "   dHashTiempoHistory[h] = tv.tv_sec + tv.tv_usec / 1000000.0;\n",
        "#define TIEMPO_FIN(h)      \\\n",
        "   gettimeofday(&tv, NULL);   \\\n",
        "   dHashTiempoHistory[h] = ((tv.tv_sec + tv.tv_usec / 1000000.0) - dHashTiempoHistory[h]) * 1000; // milisegundos\n",
        "#define TIEMPO_GET(h) dHashTiempoHistory[ h ]\n",
        "\n",
        "#define HTH_TOTAL       1\n",
        "#define HTH_BASILEA_SEC 2\n",
        "#define HTH_BASILEA_OMP 3\n",
        "// --- Fin macros para medir el tiempo\n",
        "\n",
        "\n",
        "int main(int argc, char* argv[]) { \n",
        "    long i;\n",
        "    double sum, pi_s, pi_omp;\n",
        "\n",
        "    // Capturamos el tiempo inicial\n",
        "    TIEMPO_INI(HTH_TOTAL)\n",
        "\n",
        "    // Validamos parámetros y los obtenemos\n",
        "    if(argc != 2){\n",
        "        std::cerr<< \"Error en los parámetros: debe indicar únicamente la cantidad de términos a sumar.\" << std::endl;\n",
        "        exit(-1);\n",
        "    }\n",
        "    long cant_terminos = atoi(argv[1]);\n",
        "    if(cant_terminos <= 0){\n",
        "      std::cerr<< \"Error en los parámetros: la cantidad de términos a sumar debe ser un número mayor o igual a 1.\" << std::endl;\n",
        "      exit(-1);\n",
        "    }\n",
        "    \n",
        "    // --- Problema de Basilea de forma secuencial \n",
        "    \n",
        "    // Capturamos el tiempo inicial de la forma secuencial\n",
        "    TIEMPO_INI(HTH_BASILEA_SEC)\n",
        "\n",
        "    // Calculamos Pi\n",
        "    sum = 0;\n",
        "    for (i = 0; i < cant_terminos; i++){\n",
        "        sum += 1/pow(i + 1, 2);   \n",
        "    }\n",
        "    pi_s = sqrt(6 * sum);\n",
        "\n",
        "    // Capturamos el tiempo total de la forma secuencial\n",
        "    TIEMPO_FIN(HTH_BASILEA_SEC)\n",
        "\n",
        "    // --- Fin Problema de Basilea de forma secuencial\n",
        "    \n",
        "    // --- Problema de Basilea con OpenMP \n",
        "\n",
        "    // Capturamos el tiempo inicial con OpenMP\n",
        "    TIEMPO_INI(HTH_BASILEA_OMP)\n",
        "\n",
        "    // Calculamos Pi\n",
        "    sum = 0;\n",
        "    #pragma omp parallel for reduction(+: sum)\n",
        "    for (i = 0; i < cant_terminos; i++){\n",
        "        sum += 1/pow(i + 1, 2);   \n",
        "    }\n",
        "    pi_omp = sqrt(6 * sum); \n",
        "    \n",
        "    // Capturamos el tiempo total con OpenMP\n",
        "    TIEMPO_FIN(HTH_BASILEA_OMP)\n",
        "\n",
        "    // Capturamos el tiempo total del ejercicio\n",
        "    TIEMPO_FIN( HTH_TOTAL )\n",
        "\n",
        "    std::cout<<std::endl;\n",
        "    std::cout<<\"--- Valores de Pi ---\" <<std::endl;\n",
        "    std::cout.precision(13);\n",
        "    std::cout<<\"Pi Secuencial: \"<<pi_s<<\" [ms]\"<<std::endl;\n",
        "    std::cout.precision(13);\n",
        "    std::cout<<\"Pi OpenMP    : \"<<pi_omp<<\" [ms]\"<<std::endl;\n",
        "    std::cout<<std::endl;\n",
        "\n",
        "    std::cout<<\"--- Métricas reales ---\"<<std::endl;\n",
        "    std::cout<<\"Tiempo total     : \"<<TIEMPO_GET(HTH_TOTAL   )<<\" [ms]\"<<std::endl;\n",
        "    std::cout<<\"Tiempo secuencial: \"<<TIEMPO_GET(HTH_BASILEA_SEC)<<\" [ms]\"<<std::endl;\n",
        "    std::cout<<\"Tiempo OpenMP    : \"<<TIEMPO_GET(HTH_BASILEA_OMP)<<\" [ms]\"<<std::endl;\n",
        "    std::cout<<\"SpeedUp          : (tiempo secuencial/tiempo paralelo): \"<<TIEMPO_GET(HTH_BASILEA_SEC)<<\" / \"<<TIEMPO_GET(HTH_BASILEA_OMP)<<\" = \"<<TIEMPO_GET(HTH_BASILEA_SEC)/TIEMPO_GET(HTH_BASILEA_OMP)<<std::endl;\n",
        "    std::cout<<\"Eficiencia       : SpeedUp / Nro. procesadores        : \"<<TIEMPO_GET(HTH_BASILEA_SEC)/TIEMPO_GET(HTH_BASILEA_OMP)<<\" / \"<<omp_get_num_procs()<<\" = \"<<TIEMPO_GET(HTH_BASILEA_SEC)/(omp_get_num_procs()*TIEMPO_GET(HTH_BASILEA_OMP))<<std::endl;\n",
        "    std::cout<<\"Coste sec        : Nro. procesadores * tiempo         : \"<<1<<\" * \"<<TIEMPO_GET(HTH_BASILEA_SEC)<<\" = \"<<TIEMPO_GET(HTH_BASILEA_SEC)<<std::endl;\n",
        "    std::cout<<\"Coste OMP        : Nro. procesadores * tiempo         : \"<<omp_get_num_procs()<<\" * \"<<TIEMPO_GET(HTH_BASILEA_OMP)<<\" = \"<<omp_get_num_procs()*TIEMPO_GET(HTH_BASILEA_OMP)<<std::endl;\n",
        "    std::cout<<\"Funcion overhead : Coste OMP - tiempo secuencial      : \"<<omp_get_num_procs()*TIEMPO_GET(HTH_BASILEA_OMP)<<\" - \"<<TIEMPO_GET(HTH_BASILEA_SEC)<<\" = \"<<(omp_get_num_procs()*TIEMPO_GET(HTH_BASILEA_OMP))-TIEMPO_GET(HTH_BASILEA_SEC)<<std::endl;\n",
        "    std::cout<<std::endl;\n",
        "\n",
        "    std::cout<<\"--- Métricas ideales ---\"<<std::endl;\n",
        "    TIEMPO_GET(HTH_BASILEA_OMP) = TIEMPO_GET(HTH_BASILEA_SEC) / 2;\n",
        "    std::cout<<\"Tiempo secuencial: \"<<TIEMPO_GET(HTH_BASILEA_SEC)<<\" [ms]\"<<std::endl;\n",
        "    std::cout<<\"Tiempo OpenMP    : \"<<TIEMPO_GET(HTH_BASILEA_OMP)<<\" [ms]\"<<std::endl;\n",
        "    std::cout<<\"SpeedUp          : (tiempo secuencial / tiempo paralelo): \"<<TIEMPO_GET(HTH_BASILEA_SEC)<<\" / \"<<TIEMPO_GET(HTH_BASILEA_OMP)<<\" = \"<<TIEMPO_GET(HTH_BASILEA_SEC)/TIEMPO_GET(HTH_BASILEA_OMP)<<std::endl;\n",
        "    std::cout<<\"Eficiencia       : SpeedUp / Nro. procesadores          : \"<<TIEMPO_GET(HTH_BASILEA_SEC)/TIEMPO_GET(HTH_BASILEA_OMP)<<\" / \"<<omp_get_num_procs()<<\" = \"<<TIEMPO_GET(HTH_BASILEA_SEC)/(omp_get_num_procs()*TIEMPO_GET(HTH_BASILEA_OMP))<<std::endl;\n",
        "    std::cout<<\"Coste sec        : Nro. procesadores * tiempo           : \"<<1<<\" * \"<<TIEMPO_GET(HTH_BASILEA_SEC)<<\" = \"<<TIEMPO_GET(HTH_BASILEA_SEC)<<std::endl;\n",
        "    std::cout<<\"Coste OMP        : Nro. procesadores * tiempo           : \"<<omp_get_num_procs()<<\" * \"<<TIEMPO_GET(HTH_BASILEA_OMP)<<\" = \"<<omp_get_num_procs()*TIEMPO_GET(HTH_BASILEA_OMP)<<std::endl;\n",
        "    std::cout<<\"Funcion overhead : Coste OMP - tiempo secuencial        : \"<<omp_get_num_procs()*TIEMPO_GET(HTH_BASILEA_OMP)<<\" - \"<<TIEMPO_GET(HTH_BASILEA_SEC)<<\" = \"<<(omp_get_num_procs()*TIEMPO_GET(HTH_BASILEA_OMP))-TIEMPO_GET(HTH_BASILEA_SEC)<<std::endl;\n",
        "}\n",
        "\"\"\"\n",
        "# Verificamos que no haya inconvenientes en la generación del archivo o ejecutable\n",
        "try:\n",
        "  text_file = open(\"basilea.cpp\", \"w\")\n",
        "  text_file.write(code)\n",
        "  text_file.close()\n",
        "  !g++ -o basilea -fopenmp basilea.cpp\n",
        "  print(\"¡Compilación exitosa!\")\n",
        "except:\n",
        "  print(\"Ups! Algo salió mal en la generación del archivo o ejecutable.\")"
      ],
      "execution_count": null,
      "outputs": []
    },
    {
      "cell_type": "markdown",
      "metadata": {
        "id": "z2f_gDXunEzS"
      },
      "source": [
        "### Ejecución del algoritmo"
      ]
    },
    {
      "cell_type": "code",
      "metadata": {
        "id": "pJeGWldinMh7"
      },
      "source": [
        "# Variable de entorno utilizada por OpenMP para la cantidad de threads\n",
        "%env OMP_NUM_THREADS=16\n",
        "# Ejecutamos\n",
        "!./basilea 500000"
      ],
      "execution_count": null,
      "outputs": []
    },
    {
      "cell_type": "markdown",
      "metadata": {
        "id": "1aL0jXjFGn9C"
      },
      "source": [
        "### Medidas de prestaciones en algoritmos paralelos\n",
        "Las tecnicas de HPC buscan reducir los tiempos de ejecución, el tiempo como media, no alcanza. Dos algoritmos pueden ejecutar en el mismo tiempo, pero uno de ellos usa menos procesadores [7][8]. \n"
      ]
    },
    {
      "cell_type": "markdown",
      "metadata": {
        "id": "mJxlhR-PHc4M"
      },
      "source": [
        "#### **SpeedUp**\n",
        "Referencia a la ganacia de velocidad que se consigue con un algoritmo paralelo, al resolver el mismo problema con respecto al algoritmo secuencial.\n",
        "\n",
        "<center>$ SpeedUp = TiempoSecuencial  /  TiempoParalelo $</center>\n",
        "\n"
      ]
    },
    {
      "cell_type": "markdown",
      "metadata": {
        "id": "rBsWMz-fIEaW"
      },
      "source": [
        "#### **Eficiencia**\n",
        "La eficiencia normaliza el valor del SpeedUp, al dividirlo por la cantidad de procesadores que se utilizaron para alcanzar la ganacia en velocidad. Dando la idea de la porción de tiempo que los procesadores se dedican al trabajo útil.\n",
        "\n",
        "<center>$ Eficiencia = SpeedUp  /Nro. procesadores$</center>\n"
      ]
    },
    {
      "cell_type": "markdown",
      "metadata": {
        "id": "feerSPFJI4UV"
      },
      "source": [
        "#### **Coste**\n",
        "El coste de un algoritmo paralelo representa el tiempo realizado por todo el sistema en la resoluciòn del problema.\n",
        "\n",
        "<center>$ coste = Nro. procesadores * Tiempo algoritmo$</center>\n"
      ]
    },
    {
      "cell_type": "markdown",
      "metadata": {
        "id": "H-B-4e3gJWp2"
      },
      "source": [
        "#### **Función Overhead**\n",
        "Es la diferencia entre el Coste y el tiempo secuencial. Mientras mayor es la función overhead, peor es el comportamiento del algoritmo paralelo.\n",
        "<center>$ Overhead = Coste  /  TiempoSecuencial $</center>\n"
      ]
    },
    {
      "cell_type": "markdown",
      "metadata": {
        "id": "bL2HvS_KfoVY"
      },
      "source": [
        "### ¿Cómo se aproxima el cálculo de $\\pi$ a medida que agregamos términos?\n",
        "\n",
        "Vamos a sacar provecho de una biblioteca de Python especializada en análitica de datos llamada **Pandas** [9]. Lo que haremos es obtener los resultados aproximados de $\\pi$ obtenidos a través del algoritmo y ver cómo evoluciona el valor a medida que la cantidad de términos aumenta.\n",
        "\n",
        "Por último, podremos descargarnos los resultados en una planilla de Excel a través de una biblioteca propia de Colab llamada **files** [10]."
      ]
    },
    {
      "cell_type": "markdown",
      "metadata": {
        "id": "JhBwsLCTgJlb"
      },
      "source": [
        "#### Generación de gráfico a partir de dataframe"
      ]
    },
    {
      "cell_type": "code",
      "metadata": {
        "id": "LLGP1aMzflhp"
      },
      "source": [
        "datos = {\n",
        "    'Cantidad de términos': [\n",
        "      100, 500, \n",
        "      1000, 5000, \n",
        "      10000, 50000, \n",
        "      100000, 500000, \n",
        "      1000000, 5000000, \n",
        "      10000000, 50000000,\n",
        "      100000000, 500000000\n",
        "    ],\n",
        "    'Pi': [\n",
        "      3.132076531809, 3.139684123139,\n",
        "      3.140638056206, 3.141401680951,\n",
        "      3.141497163947, 3.14157355513,\n",
        "      3.141583104326, 3.141590743732,\n",
        "      3.141591698661, 3.141592462604,\n",
        "      3.141592558097, 3.141592634491,\n",
        "      3.141592644041, 3.141592651706\n",
        "    ]\n",
        "}\n",
        "try:\n",
        "  df = pd.DataFrame(datos, columns=['Cantidad de términos','Pi'])\n",
        "  df.plot(\n",
        "      x = 'Cantidad de términos', y = 'Pi', xlim=(100,1000000000), loglog = True,\n",
        "      figsize=(10, 5), grid = True, color = \"red\",\n",
        "      title = 'Aproximación de Pi según cantidad de términos de Basilea'\n",
        "  )\n",
        "except:\n",
        "  print(\"No pudo generarse el dataframe, ¿realizó el armado previo del ambiente?\")"
      ],
      "execution_count": null,
      "outputs": []
    },
    {
      "cell_type": "markdown",
      "metadata": {
        "id": "_vjR-uhNgUu5"
      },
      "source": [
        "Podemos ver que a partir de **100 mil términos de basilea** la aproximación de $\\pi$ parece estabilizarse. Por supuesto, el nivel de precisión va a ser adecuado o no según nuestra aplicación. Por ejemplo, si tenemos que enviar un satélite al espacio, el cálculo de la órbita para la trayectoria necesitará muchos decimales de presición."
      ]
    },
    {
      "cell_type": "markdown",
      "metadata": {
        "id": "h_j3ZCXyxsG3"
      },
      "source": [
        "#### Podemos descargarnos los resultados en una planilla de Excel"
      ]
    },
    {
      "cell_type": "code",
      "metadata": {
        "id": "TaYW3jfrjiNl"
      },
      "source": [
        "try:\n",
        "  excel_descarga = 'pi_basilea.xls'\n",
        "  df.to_excel(excel_writer = excel_descarga)\n",
        "  files.download(excel_descarga)\n",
        "except:\n",
        "  print(\"No pudo generarse la planilla de Excel, ¿generó previamente el dataframe?\")"
      ],
      "execution_count": null,
      "outputs": []
    },
    {
      "cell_type": "markdown",
      "metadata": {
        "id": "Z1oQvSYMoOYb"
      },
      "source": [
        "# 4. Tabla de pasos\n",
        "\n",
        "Ámbito|Función|Detalle\n",
        "---|---|---\n",
        "Colab|import|Importa los módulos para funcionar.\n",
        "C|include|Incluye las bibliotecas para el código C.\n",
        "C|define|Define macros y constantes.\n",
        "C|TIEMPO_INI|Captura el tiempo inicial del ejercicio.\n",
        "C|if(argc)|Valida la cantidad de parámetros.\n",
        "C|atoi|Pasamos la cantidad de términos a long.\n",
        "C|if(...)|Verificamos que la cantidad de términos sea válida.\n",
        "C|TIEMPO_INI|Captura el tiempo inicial del modo secuencial.\n",
        "C|for(...)|Aplica el algortimo de forma secuencial.\n",
        "C|TIEMPO_FIN|Captura el tiempo total del modo secuencial.\n",
        "C|TIEMPO_INI|Captura el tiempo inicial con OpenMP.\n",
        "C|pragma omp parallel for|Indica la parelización del for. \n",
        "C|for(...)|Aplica el algortimo con OpenMP.\n",
        "C|reduction(+: sum)|Indica a OpenMP que se compartirá la variable sum y se reducirá a través de la operación '+'.\n",
        "C|TIEMPO_FIN|Captura el tiempo total de OpenMP y de todo el ejercicio.\n",
        "C|cout|Imprimimos resultados.\n",
        "Colab|open|Abrimos archivo para escribir.\n",
        "Colab|write|Escribimos el archivo con el código C.\n",
        "Colab|close|Cerramos el archivo.\n",
        "Colab|g++ ... -fopenmp...|Compilamos indicándole al compilador que hay directivas OpenMP.\n",
        "Colab|%env OMP_NUM_THREADS|Seteamos la cantidad de threadas de OpenMP a través de la variable de entorno.\n",
        "Colab|basilea...|Ejecutamos el código.\n",
        "Colab|datos{...}|Definimos una estructura con los datos obtenidos.\n",
        "Colab|pd.DataFrame|Generamos el dataframe con los datos.\n",
        "Colab|df.plot|Generamos el gráfico a partir del dataframe.\n",
        "Colab|df.to_excel|Generamos el excel a partir del dataframe.\n",
        "Colab|file.download|Descargamos el archivo de excel a nuestro dispositivo."
      ]
    },
    {
      "cell_type": "markdown",
      "metadata": {
        "id": "hFjMDMuPn-FJ"
      },
      "source": [
        "# 5. Conclusiones\n",
        "\n",
        "Se realizaron las siguientes pruebas:\n",
        "\n",
        "Cant. de términos|Tiempo secuencial [ms]|Tiempo OpenMP [ms]| Mejora performance [%] \n",
        "---|---|---|---\n",
        "100|0.003|1.128|N/A\n",
        "500|0.006|0.711|N/A\n",
        "1K|0.010|0.745|N/A\n",
        "5K|0.072|1.432|N/A\n",
        "10K|0.162|4.169|N/A\n",
        "50K|0.777|1.565|N/A\n",
        "100K|1.267|1.899|N/A\n",
        "500K|9.341|6.467|30.77 %\n",
        "1M|10.516|9.779|7 %\n",
        "5M|54.245|45.366|16.39 %\n",
        "10M|103.356|92.069|10.92 %\n",
        "50M|507.103|439.947|13.24 %\n",
        "100M|1002.540|841.186|16.09 %\n",
        "500M|4969.376|4205.069|15.38 %\n",
        "\n",
        "Podemos considerar varios aspectos:\n",
        "\n",
        "*   Este es otro problema cuya **complejidad es lineal** a la cantidad de términos, al menos, en términos temporales.\n",
        "\n",
        "*   El **uso de series** para el cálculo de $\\pi$ es una de las mejores alternativas frente a otros como el Método de Arquímedes [11] o el Método Montecarlo [12] (aunque este último tiene muchas aplicaciones, como el cálculo de areas complejas o la economía [13]). Sin embargo, La serie del Problema de Basilea **no es necesariamente la más eficiente de todas**.\n",
        "\n",
        "Consideramos, entonces, que a partir del cálculo de **500 mil términos** empieza a ser justificable la idea de **paralelizar** el cálculo de $\\pi$, menor a esa cantidad incluso perderíamos eficiencia debido al overhead y la sincronización de los hilos.\n",
        "\n",
        "\n",
        "Una manera de mejorar el ejercicio podría ser que a, a partir del código C, se hagan pruebas con diveras cantidades de términos de basilea para el cálculo de $\\pi$ y que, al final, se genere un CSV el cual podremos manipular directamente con Pandas. "
      ]
    },
    {
      "cell_type": "markdown",
      "metadata": {
        "id": "B4IHd-IqdvT1"
      },
      "source": [
        "---\n",
        "# 6. Bibliografía\n",
        "\n",
        "[1] Euler y El Problema de Basilea: [PDF](http://www2.caminos.upm.es/Departamentos/matematicas/revistapm/revista_impresa/vol_V_num_1/his_mat_euler_basilea.pdf)\n",
        "\n",
        "[2] Introducción a OpenMP: [OpenMp](https://www.openmp.org/wp-content/uploads/omp-hands-on-SC08.pdf)\n",
        "\n",
        "[3] Directivas OpenMP: [Página web](https://bisqwit.iki.fi/story/howto/openmp/#DistributeParallelForConstruct)\n",
        "\n",
        "[4] Introducción a Python: [Página Colab](https://github.com/wvaliente/SOA_HPC/blob/main/Documentos/Python_Basico.ipynb) \n",
        "\n",
        "[5] Sintaxis Markdown Colab: [PDF](https://github.com/wvaliente/SOA_HPC/blob/main/Documentos/markdown-cheatsheet-online.pdf)\n",
        "\n",
        "[6] Tutorial Point Colab: [PDF](https://github.com/wvaliente/SOA_HPC/blob/main/Documentos/markdown-cheatsheet-online.pdf)\n",
        "\n",
        "[7] F. Almeida, D. Gimenéz, A. Vidal - Introducción a la programación paralela - 2008 - Editorial Parafino.\n",
        "\n",
        "[8] D. Jiménez-González - Introducción a las arquitecturas paralelas. [PDF](http://so-unlam.com.ar/material-clase/HPC/Arquitecturas_de_computadores_avanzadas_(Modulo_1).pdf)\n",
        "\n",
        "[9] Biblioteca Pandas. [Pandas](https://pandas.pydata.org/pandas-docs/stable/index.html)\n",
        "\n",
        "[10] Manejo de archivos desde Colab. [Colab](https://colab.research.google.com/notebooks/io.ipynb)\n",
        "\n",
        "[11] Método de Arquímedes. [DocIRS](https://www.docirs.cl/calculo_pi.htm)\n",
        "\n",
        "[12] Método Montecarlo. [Geogebra](https://www.geogebra.org/m/cF7RwK3H)\n",
        "\n",
        "[13] Montecarlo en la Economía [Master en Finanzas](https://www.master-finanzas-cuantitativas.com/metodos-de-montecarlo/)"
      ]
    }
  ]
}