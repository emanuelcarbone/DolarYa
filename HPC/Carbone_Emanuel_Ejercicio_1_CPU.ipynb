{
  "nbformat": 4,
  "nbformat_minor": 0,
  "metadata": {
    "colab": {
      "name": "EA3-Ejercicio 1-CPU.ipynb",
      "private_outputs": true,
      "provenance": [],
      "collapsed_sections": [
        "B4IHd-IqdvT1"
      ]
    },
    "kernelspec": {
      "display_name": "Python 3",
      "name": "python3"
    }
  },
  "cells": [
    {
      "cell_type": "markdown",
      "metadata": {
        "id": "Zw-Vno_15t-E"
      },
      "source": [
        "# 1. Introducción\n",
        "\n",
        "En el siguiente ejercicio se realizará el **producto escalar** entre dos vectores de igual dimensiones.\n",
        "\n",
        "El algoritmo está basado en la función **dot** nivel 1[1], de la biblioteca **BLAS**[2] que resuelve la ecuación:\n",
        "<center>$res = \\sum_{i-1}^{n} X_i * Y_i$</center>\n",
        "\n",
        "La idea principal es mostrar la perfomance del funcionamiento de **estructuras de una dimensión** para gran cantidad de elementos.\n",
        "\n",
        "Se utilizará exclusivamente el lenguaje Python [3] con bibliotecas estándares en la plataforma Colab [4][5]."
      ]
    },
    {
      "cell_type": "markdown",
      "metadata": {
        "id": "i2vqVVW1G1JW"
      },
      "source": [
        "---\n",
        "# 2. Armado del ambiente"
      ]
    },
    {
      "cell_type": "markdown",
      "metadata": {
        "id": "j4zdFJlZG1JW"
      },
      "source": [
        "### Importación de **bibliotecas**"
      ]
    },
    {
      "cell_type": "code",
      "metadata": {
        "id": "Tsh_pFJ4G1JW"
      },
      "source": [
        "from datetime import datetime\n",
        "import numpy\n",
        "import math"
      ],
      "execution_count": null,
      "outputs": []
    },
    {
      "cell_type": "markdown",
      "metadata": {
        "id": "NzQaWRTtc1Zj"
      },
      "source": [
        "---\n",
        "# 3. Desarrollo\n"
      ]
    },
    {
      "cell_type": "code",
      "metadata": {
        "id": "9c7mZSnu0M3m"
      },
      "source": [
        "#@title ### 3.1. Parámetros de ejecución {vertical-output: true}\n",
        "#@markdown ---\n",
        "#@markdown Cantidad de elementos de los arrays X e Y:\n",
        "cant_elementos = 50000#@param {type: \"integer\"}\n",
        "#@markdown ---\n",
        "\n",
        "# Validamos la cantidad de elementos de los arrays\n",
        "if not (type(cant_elementos) is int):\n",
        "  raise TypeError(\"El parámetro de entrada debe ser un entero.\") \n",
        "if cant_elementos <= 0:\n",
        "  raise Exception(\"La cantidad de dimensiones de los arrays deben ser al menos 1.\")\n",
        "\n",
        "# Definición de función que transforma el tiempo en milisegundos \n",
        "tiempo_en_ms = lambda dt:(dt.days * 24 * 60 * 60 + dt.seconds) * 1000 + dt.microseconds / 1000.0\n",
        "\n",
        "# El ejercicio podría fallar si no se importaron los recursos necesarios\n",
        "# Es por eso que envolvemos el código en un bloque try, de esta forma\n",
        "# se le indica al usuario cómo proceder\n",
        "try:\n",
        "  # Capturamos el tiempo inicial\n",
        "  tiempo_total = datetime.now()\n",
        "\n",
        "  # Defino los vectores a partir del tamaño indicado\n",
        "  # El contenido de los mismos son números enteros aleatorios\n",
        "  x_cpu = numpy.random.randint(1, 10, cant_elementos)\n",
        "  x_cpu = x_cpu.astype(numpy.int64())\n",
        "  y_cpu = numpy.random.randint(1,10, cant_elementos)\n",
        "  y_cpu = y_cpu.astype(numpy.int64())\n",
        "\n",
        "  # Capturamos el tiempo inicial del algoritmo\n",
        "  tiempo_bucles = datetime.now()\n",
        "\n",
        "  # Realizamos las multiplicaciones\n",
        "  for idx in range(0, cant_elementos):\n",
        "    y_cpu[idx] = x_cpu[idx] * y_cpu[idx]\n",
        "\n",
        "  # Computamos los resultados parciales\n",
        "  res_cpu = 0\n",
        "  for idx in range(0, cant_elementos):\n",
        "    res_cpu += y_cpu[idx]\n",
        "\n",
        "  # Capturamos el tiempo total del algoritmo y de todo el ejercicio\n",
        "  tiempo_bucles = datetime.now() - tiempo_bucles\n",
        "  tiempo_total = datetime.now() - tiempo_total\n",
        "\n",
        "  # Mostramos el resultado del proceso\n",
        "  print(\"Cantidad de elementos en los arrays: \", cant_elementos, \"\\n\")\n",
        "  print(\"Tiempo DOT: \", tiempo_en_ms(tiempo_bucles), \"[ms]\")\n",
        "  print(\"Tiempo total: \", tiempo_en_ms(tiempo_total), \"[ms]\\n\")\n",
        "  print(\"Resultado de DOT: \", res_cpu)\n",
        "except:\n",
        "  print(\"Ups! Algo salió mal, ¿realizó el armado previo del ambiente?\")"
      ],
      "execution_count": null,
      "outputs": []
    },
    {
      "cell_type": "markdown",
      "metadata": {
        "id": "fwtyQB2tdJuG"
      },
      "source": [
        "---\n",
        "#4. Tabla de pasos del programa\n",
        "\n",
        " Procesador | Función | Detalle\n",
        "------------|---------|----------\n",
        "CPU      |  import                | Importa bibliotecas necesarias.\n",
        "CPU      |  @param                | Leemos la cantidad de elementos de los vectores X e Y.\n",
        "CPU      |  datetime.now()        | Toma el tiempo inicial del ejercicio.\n",
        "CPU      |  numpy.random.randint | Inicializa los vectores X e Y con enteros aleatorios.\n",
        "CPU      |  astype | Castea los vectores a un tipo de dato especificado.\n",
        "CPU      |  datetime.now()        | Toma el tiempo inicial del algoritmo.\n",
        "CPU      |  1er y 2do for                | Genera el producto escalar. \n",
        "CPU      |  datetime.now()        | Toma los tiempos finales.\n",
        "CPU      |  print()               | Informa el resultado.\n",
        "\n"
      ]
    },
    {
      "cell_type": "markdown",
      "metadata": {
        "id": "3PQxHPkDdo42"
      },
      "source": [
        "---\n",
        "# 5. Conclusiones\n",
        "\n",
        "Se realizaron las siguientes pruebas:\n",
        "\n",
        "Cantidad de elementos|Tiempo DOT [ms]|Tiempo Total [ms]|Relación tiempos [%] \n",
        "---|---|---|---\n",
        "50K|49.61|53.76|92.28\n",
        "500k|460.52|487.51|94.46\n",
        "5M|4421.43|4644.34|95.20\n",
        "50M|45434.35|48093.43|94.47\n",
        "\n",
        "Podemos decir que:\n",
        "*   Alrededor del **94%** del tiempo total es invertido en la aplicación del algoritmo, lo cual parece razonable.\n",
        "*   Los tiempos crecen **linealmente** con la cantidad de elementos de los vectores.\n",
        "\n",
        "En la versión GPU tendremos más información para seguir extrayendo conclusiones."
      ]
    },
    {
      "cell_type": "markdown",
      "metadata": {
        "id": "B4IHd-IqdvT1"
      },
      "source": [
        "---\n",
        "# 6 Bibliografía\n",
        "\n",
        "[1] Función DOT de biblioteca BLAS: [Referencia](https://software.intel.com/content/www/us/en/develop/documentation/mkl-developer-reference-c/top/blas-and-sparse-blas-routines/blas-routines/blas-level-1-routines-and-functions/cblas-dot.html)\n",
        "\n",
        "[2] Biblioteca BLAS: [Referencia](http://www.netlib.org/blas/)\n",
        "\n",
        "[3] Introducción a Python: [Página Colab](https://github.com/wvaliente/SOA_HPC/blob/main/Documentos/Python_Basico.ipynb) \n",
        "\n",
        "[4] Sintaxis Markdown Colab: [PDF](https://github.com/wvaliente/SOA_HPC/blob/main/Documentos/markdown-cheatsheet-online.pdf)\n",
        "\n",
        "[5] Tutorial Point Colab: [PDF](https://github.com/wvaliente/SOA_HPC/blob/main/Documentos/markdown-cheatsheet-online.pdf)"
      ]
    }
  ]
}